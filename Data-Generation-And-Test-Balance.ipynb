{
 "cells": [
  {
   "cell_type": "code",
   "execution_count": 1,
   "metadata": {},
   "outputs": [],
   "source": [
    "%load_ext autoreload\n",
    "%autoreload 2"
   ]
  },
  {
   "cell_type": "code",
   "execution_count": 2,
   "metadata": {},
   "outputs": [],
   "source": [
    "from sql_adapter import SQLAdapter"
   ]
  },
  {
   "cell_type": "code",
   "execution_count": 3,
   "metadata": {},
   "outputs": [],
   "source": [
    "driver = '{ODBC Driver 17 for SQL Server}'\n",
    "database = 'PaymentData'\n",
    "server = 'localhost,1433'\n",
    "user = 'sa'\n",
    "password = 'VeryComplicatedPassowrd1234!'"
   ]
  },
  {
   "cell_type": "code",
   "execution_count": 4,
   "metadata": {},
   "outputs": [],
   "source": [
    "adapter = SQLAdapter(driver, database, server, user, password)"
   ]
  },
  {
   "cell_type": "markdown",
   "metadata": {},
   "source": [
    "## **Data Generation**"
   ]
  },
  {
   "cell_type": "code",
   "execution_count": 4,
   "metadata": {},
   "outputs": [],
   "source": [
    "adapter = SQLAdapter(driver, database, server, user, password)\n",
    "adapter.clean_tables()"
   ]
  },
  {
   "cell_type": "code",
   "execution_count": 6,
   "metadata": {},
   "outputs": [
    {
     "name": "stdout",
     "output_type": "stream",
     "text": [
      "CPU times: user 402 ms, sys: 16.5 ms, total: 419 ms\n",
      "Wall time: 2.41 s\n"
     ]
    }
   ],
   "source": [
    "%%time\n",
    "adapter.generate(n_participants=100, n_projects=100, n_payments=100)"
   ]
  },
  {
   "cell_type": "code",
   "execution_count": 10,
   "metadata": {},
   "outputs": [],
   "source": [
    "adapter.clean_tables()"
   ]
  },
  {
   "cell_type": "code",
   "execution_count": 11,
   "metadata": {},
   "outputs": [
    {
     "name": "stdout",
     "output_type": "stream",
     "text": [
      "CPU times: user 3.83 s, sys: 225 ms, total: 4.06 s\n",
      "Wall time: 32.3 s\n"
     ]
    }
   ],
   "source": [
    "%%time\n",
    "adapter.generate(n_participants=1000, n_projects=1000, n_payments=1000)"
   ]
  },
  {
   "cell_type": "code",
   "execution_count": 13,
   "metadata": {},
   "outputs": [],
   "source": [
    "adapter.clean_tables()"
   ]
  },
  {
   "cell_type": "markdown",
   "metadata": {},
   "source": [
    "## **Balance test**"
   ]
  },
  {
   "cell_type": "code",
   "execution_count": 7,
   "metadata": {},
   "outputs": [],
   "source": [
    "def insert_into_payment_participant(adapter, oid, balance, name, object_type, bank_details):\n",
    "    object_type = adapter.OBJECT_TYPES.index(object_type)\n",
    "    query = f\"\"\"INSERT INTO [dbo].[PaymentParticipant] ([Oid], [Balance], [Name], [OptimisticLockField], [GCRecord], \n",
    "       [ObjectType], [ActiveFrom], [InactiveFrom], [BankDetails], [Balance2], [Balance3]) \n",
    "       VALUES ('{oid}', {balance}, '{name}', 0, Null, {object_type}, '2000-01-01 00:00:00.000', \n",
    "       '2020-01-01 00:00:00.000', '{bank_details}', 0, 0)\"\"\"\n",
    "\n",
    "    adapter.execute(query)\n",
    "    adapter.commit()\n",
    "\n",
    "    \n",
    "def insert_bank(adapter, bank_oid, account_type):\n",
    "    account_type_oid = adapter.execute(f\"SELECT Oid FROM [dbo].[AccountType] WHERE name = N'{account_type}'\").fetchval()\n",
    "    query = f\"\"\"INSERT INTO [dbo].[Bank] ([Oid], [AccountType]) VALUES ('{bank_oid}', '{account_type_oid}')\"\"\"\n",
    "    adapter.execute(query)\n",
    "    adapter.commit()\n",
    "    \n",
    "    \n",
    "def insert_supplier(adapter, supplier_oid, contact, profit_by_material_as_payer, profit_by_material_as_payee, cost_by_material_as_payer):\n",
    "    query = f\"\"\"INSERT INTO [dbo].[Supplier] ([Oid], [Contact], [ProfitByMaterialAsPayer], [ProfitByMaterialAsPayee], [CostByMaterialAsPayer])\n",
    "                VALUES ('{supplier_oid}', '{contact}', {profit_by_material_as_payer}, {profit_by_material_as_payee}, {cost_by_material_as_payer})\"\"\"\n",
    "    adapter.execute(query)\n",
    "    adapter.commit()\n",
    "    \n",
    "\n",
    "def insert_client(adapter, client_oid, first_name, second_name, phone):\n",
    "    query = f\"\"\"INSERT INTO [dbo].[Client] ([Oid], [FirstName], [SecondName], [Phone])\n",
    "                VALUES ('{client_oid}', '{first_name}', '{second_name}', '{phone}')\"\"\"\n",
    "    adapter.execute(query)\n",
    "    adapter.commit()\n",
    "\n",
    "    \n",
    "def insert_cashbox(adapter, cashbox_oid, account_type):\n",
    "    account_type_oid = adapter.execute(f\"SELECT Oid FROM [dbo].[AccountType] WHERE name = N'{account_type}'\").fetchval()\n",
    "    query = f\"\"\"INSERT INTO [dbo].[Cashbox] ([Oid], [AccountType]) VALUES ('{cashbox_oid}', '{account_type_oid}')\"\"\"\n",
    "    adapter.execute(query)\n",
    "    adapter.commit()\n",
    "    \n",
    "def insert_employee(adapter, oid, second_name, first_name, plan_fix_money_request_task):\n",
    "    query = f\"\"\"INSERT INTO [dbo].[Employee] ([Oid], [BusyUntil], [SecondName], [Stuff], [HourPrice], [Patronymic], \n",
    "                [PlanfixId], [Head], [PlanfixMoneyRequestTask])\n",
    "                VALUES ('{oid}', '2020-01-01 00:00:00.000', '{second_name}', 1, 100, '{first_name}', \n",
    "                         1, Null, '{plan_fix_money_request_task}')\"\"\"\n",
    "    adapter.execute(query)\n",
    "    adapter.commit()\n",
    "\n",
    "\n",
    "def insert_project(adapter, project_oid, name, client, manager, foreman, balance, balance_by_material, balance_by_work):\n",
    "    query = f\"\"\"INSERT INTO [dbo].[Project] ([Oid], [Name], [Address], [Client], [Manager], [Foreman], [OptimisticLockField], [GCRecord], \n",
    "               [Balance], [BalanceByMaterial], [BalanceByWork], [PlaningStartDate], [Status], [FinishDate], [Area], [WorkPriceRate],\n",
    "               [WorkersPriceRate], [RemainderTheAdvance], [PlanfixWorkTask], [PlanfixChangeRequestTask], [UseAnalytics]) \n",
    "               VALUES ('{project_oid}', '{name}', 'Test Address', '{client}', '{manager}', '{foreman}', 1, \n",
    "                       Null, {balance}, {balance_by_material}, {balance_by_work}, '2000-01-01 00:00:00.000', 1, '2020-01-01 00:00:00.000', \n",
    "                        10, 1000000.00, 1000.00, 0, 'Test Task', \n",
    "                       'Test Task', 1)\"\"\"\n",
    "    adapter.execute(query)\n",
    "    adapter.commit()\n",
    "    \n",
    "    \n",
    "def insert_into_payment(adapter, amount, category, project, payer, payee):\n",
    "    oid = adapter.execute(\"SELECT NEWID()\").fetchval()\n",
    "    category = adapter.execute(f\"SELECT Oid FROM [dbo].[PaymentCategory] WHERE name = N'{category}'\").fetchval()\n",
    "    query = f\"\"\"INSERT INTO [dbo].[Payment] ([Oid], [Amount], [Category], [Project], [Justification], [Comment], [Date], [Payer], [Payee],\n",
    "               [OptimisticLockField], [GCRecord], [CreateDate], [CheckNumber], [IsAuthorized], [Number]) \n",
    "               VALUES ('{oid}', {amount}, '{category}', '{project}', 'Test justificatoon', 'Test comment', '2000-01-01 00:00:00.000', '{payer}', '{payee}', \n",
    "               0, Null, '2015-01-01 00:00:00.000', '12345', 1, '12345')\"\"\"\n",
    "    adapter.execute(query)\n",
    "    adapter.commit()\n",
    "    \n",
    "\n",
    "def print_balance(bank_oid, supplier_oid, client_oid, cashbox_oid):\n",
    "    query = \"SELECT Balance FROM [dbo].[PaymentParticipant] WHERE Oid = '{}'\"\n",
    "    print(\"Current balance:\")\n",
    "    print(\"Bank:\", adapter.execute(query.format(bank_oid)).fetchval())\n",
    "    print(\"Supplier:\", adapter.execute(query.format(supplier_oid)).fetchval())\n",
    "    print(\"Client:\", adapter.execute(query.format(client_oid)).fetchval())\n",
    "    print(\"Cashbox:\", adapter.execute(query.format(cashbox_oid)).fetchval())"
   ]
  },
  {
   "cell_type": "code",
   "execution_count": 8,
   "metadata": {},
   "outputs": [],
   "source": [
    "def test_balance():\n",
    "    bank_oid = adapter.execute(\"SELECT NEWID()\").fetchval()\n",
    "    supplier_oid = adapter.execute(\"SELECT NEWID()\").fetchval()\n",
    "    client_oid = adapter.execute(\"SELECT NEWID()\").fetchval()\n",
    "    cashbox_oid = adapter.execute(\"SELECT NEWID()\").fetchval()\n",
    "    manager_oid = adapter.execute(\"SELECT NEWID()\").fetchval()\n",
    "    foreman_oid = adapter.execute(\"SELECT NEWID()\").fetchval()\n",
    "    project_oid = adapter.execute(\"SELECT NEWID()\").fetchval()\n",
    "    \n",
    "    insert_into_payment_participant(adapter, oid=bank_oid, balance=0, name=\"Test Bank\", object_type='cash', bank_details='bank details')\n",
    "    insert_into_payment_participant(adapter, oid=supplier_oid, balance=0, name=\"Test Supplier\", object_type='cash', bank_details=None)\n",
    "    insert_into_payment_participant(adapter, oid=client_oid, balance=0, name=\"Test Client\", object_type='cash', bank_details=None)\n",
    "    insert_into_payment_participant(adapter, oid=cashbox_oid, balance=0, name=\"Test Cashbox\", object_type='cash', bank_details=None)\n",
    "    insert_into_payment_participant(adapter, oid=manager_oid, balance=0, name=\"Test Manager\", object_type='cash', bank_details=None)\n",
    "    insert_into_payment_participant(adapter, oid=foreman_oid, balance=0, name=\"Test Foreman\", object_type='cash', bank_details=None)\n",
    "    \n",
    "    insert_bank(adapter, bank_oid, account_type='Авансовый')\n",
    "    insert_cashbox(adapter, cashbox_oid=cashbox_oid, account_type='Текущий')\n",
    "    insert_client(adapter, client_oid=client_oid, first_name='Test First Name', second_name='Test Second Name', phone=\"88005553535\")\n",
    "    insert_supplier(adapter, supplier_oid=supplier_oid, contact='Test Contact', profit_by_material_as_payer=0, \n",
    "                    profit_by_material_as_payee=1, cost_by_material_as_payer=0)\n",
    "    \n",
    "    insert_employee(adapter, manager_oid,  second_name='Test Second Name', first_name=\"Test First Name\", plan_fix_money_request_task='Test Task')\n",
    "    insert_employee(adapter, foreman_oid,  second_name='Test Second Name', first_name=\"Test First Name\", plan_fix_money_request_task='Test Task')\n",
    "    \n",
    "    insert_project(adapter, project_oid, \"Test Project\", client_oid, manager_oid, foreman_oid, balance=0, balance_by_material=0, balance_by_work=0)\n",
    "    \n",
    "    query = \"SELECT Balance FROM [dbo].[PaymentParticipant] WHERE Oid = '{}'\"\n",
    "    \n",
    "    # Исходное состояние\n",
    "    assert adapter.execute(query.format(bank_oid)).fetchval() == 0\n",
    "    assert adapter.execute(query.format(supplier_oid)).fetchval() == 0\n",
    "    assert adapter.execute(query.format(client_oid)).fetchval() == 0\n",
    "    assert adapter.execute(query.format(cashbox_oid)).fetchval() == 0\n",
    "    print_balance(bank_oid, supplier_oid, client_oid, cashbox_oid)\n",
    "    print()\n",
    "    \n",
    "    # Перевели денег поставщику для будущих закупок. Образовался дол банку.\n",
    "    insert_into_payment(adapter, amount=400000, category='Авансовые платежи', project=project_oid, payer=bank_oid, payee=supplier_oid)\n",
    "    assert adapter.execute(query.format(bank_oid)).fetchval() == -400000\n",
    "    assert adapter.execute(query.format(supplier_oid)).fetchval() == 400000\n",
    "    assert adapter.execute(query.format(client_oid)).fetchval() == 0\n",
    "    assert adapter.execute(query.format(cashbox_oid)).fetchval() == 0\n",
    "    print_balance(bank_oid, supplier_oid, client_oid, cashbox_oid)\n",
    "    print()\n",
    "    \n",
    "    # Для клиента приобрели материал. Поставщик нам должен меньше, а клииент должен за материалы\n",
    "    insert_into_payment(adapter, amount=100000, category='Закупка материалов', project=project_oid, payer=supplier_oid, payee=client_oid)\n",
    "    assert adapter.execute(query.format(bank_oid)).fetchval() == -400000\n",
    "    assert adapter.execute(query.format(supplier_oid)).fetchval() == 300000\n",
    "    assert adapter.execute(query.format(client_oid)).fetchval() == 100000\n",
    "    assert adapter.execute(query.format(cashbox_oid)).fetchval() == 0\n",
    "    print_balance(bank_oid, supplier_oid, client_oid, cashbox_oid)\n",
    "    print()\n",
    "    \n",
    "    # Клиент передал наличные для закупки материалов\n",
    "    insert_into_payment(adapter, amount=150000, category='Закупка материалов', project=project_oid, payer=client_oid, payee=cashbox_oid)\n",
    "    assert adapter.execute(query.format(bank_oid)).fetchval() == -400000\n",
    "    assert adapter.execute(query.format(supplier_oid)).fetchval() == 300000\n",
    "    assert adapter.execute(query.format(client_oid)).fetchval() == -50000\n",
    "    assert adapter.execute(query.format(cashbox_oid)).fetchval() == 150000\n",
    "    print_balance(bank_oid, supplier_oid, client_oid, cashbox_oid)\n",
    "    print()\n",
    "    \n",
    "    # Частично гасим кредит\n",
    "    insert_into_payment(adapter, amount=100000, category='Возврат кредита', project=project_oid, payer=cashbox_oid, payee=bank_oid)\n",
    "    assert adapter.execute(query.format(bank_oid)).fetchval() == -300000\n",
    "    assert adapter.execute(query.format(supplier_oid)).fetchval() == 300000\n",
    "    assert adapter.execute(query.format(client_oid)).fetchval() == -50000\n",
    "    assert adapter.execute(query.format(cashbox_oid)).fetchval() == 50000"
   ]
  },
  {
   "cell_type": "code",
   "execution_count": 9,
   "metadata": {},
   "outputs": [
    {
     "name": "stdout",
     "output_type": "stream",
     "text": [
      "Current balance:\n",
      "Bank: 0\n",
      "Supplier: 0\n",
      "Client: 0\n",
      "Cashbox: 0\n",
      "\n",
      "Current balance:\n",
      "Bank: -400000\n",
      "Supplier: 400000\n",
      "Client: 0\n",
      "Cashbox: 0\n",
      "\n",
      "Current balance:\n",
      "Bank: -400000\n",
      "Supplier: 300000\n",
      "Client: 100000\n",
      "Cashbox: 0\n",
      "\n",
      "Current balance:\n",
      "Bank: -400000\n",
      "Supplier: 300000\n",
      "Client: -50000\n",
      "Cashbox: 150000\n",
      "\n"
     ]
    }
   ],
   "source": [
    "test_balance()"
   ]
  },
  {
   "cell_type": "markdown",
   "metadata": {},
   "source": [
    "## **Indexes**"
   ]
  },
  {
   "cell_type": "code",
   "execution_count": 10,
   "metadata": {},
   "outputs": [],
   "source": [
    "from time import perf_counter"
   ]
  },
  {
   "cell_type": "code",
   "execution_count": 11,
   "metadata": {},
   "outputs": [],
   "source": [
    "adapter.clean_tables()\n",
    "adapter.generate(n_participants=1000, n_projects=100, n_payments=0)"
   ]
  },
  {
   "cell_type": "markdown",
   "metadata": {},
   "source": [
    "### **Оценка времени работы с исходными идексами**"
   ]
  },
  {
   "cell_type": "code",
   "execution_count": 12,
   "metadata": {},
   "outputs": [
    {
     "name": "stdout",
     "output_type": "stream",
     "text": [
      "Number of inserted payments: 100, total time: 0.7553450190025615 seconds\n",
      "Number of inserted payments: 1000, total time: 8.14556324199657 seconds\n",
      "Number of inserted payments: 10000, total time: 750.734507909001 seconds\n"
     ]
    }
   ],
   "source": [
    "payments = [100, 1000, 10000]\n",
    "for n in payments:\n",
    "    adapter.clean_tables(tables=['Payment'])\n",
    "    start_time = perf_counter()\n",
    "    adapter.generate_payments(n)\n",
    "    total_time = perf_counter() - start_time\n",
    "    print(f'Number of inserted payments: {n}, total time: {total_time} seconds')"
   ]
  },
  {
   "cell_type": "markdown",
   "metadata": {},
   "source": [
    "### **Добавляем новые индексы**"
   ]
  },
  {
   "cell_type": "code",
   "execution_count": 13,
   "metadata": {},
   "outputs": [],
   "source": [
    "create_index_queries = [\n",
    "\"CREATE NONCLUSTERED INDEX iName_AccountType ON [dbo].[AccountType] (Name)\",\n",
    "\"CREATE NONCLUSTERED INDEX iProfitByMaterialAsPayer_Supplier ON [dbo].[Supplier] (ProfitByMaterialAsPayer)\",\n",
    "\"CREATE NONCLUSTERED INDEX iProfitByMaterialAsPayee_Supplier ON [dbo].[Supplier] (ProfitByMaterialAsPayee)\",\n",
    "\"CREATE NONCLUSTERED INDEX iProfitByMaterial_Supplier ON [dbo].[PaymentCategory] (ProfitByMaterial)\",\n",
    "\"CREATE NONCLUSTERED INDEX iName_Supplier ON [dbo].[PaymentCategory] (Name)\",\n",
    "\"CREATE NONCLUSTERED INDEX iCostByMaterial_Supplier ON [dbo].[PaymentCategory] (CostByMaterial)\",\n",
    "\"CREATE NONCLUSTERED INDEX iNotInPaymentParticipantProfit_Supplier ON [dbo].[PaymentCategory] (NotInPaymentParticipantProfit)\"]"
   ]
  },
  {
   "cell_type": "code",
   "execution_count": 14,
   "metadata": {},
   "outputs": [],
   "source": [
    "# drop_index_queries = [\n",
    "# \"DROP INDEX iName_AccountType ON [dbo].[AccountType]\",\n",
    "# \"DROP INDEX iProfitByMaterialAsPayer_Supplier ON [dbo].[Supplier]\",\n",
    "# \"DROP INDEX iProfitByMaterialAsPayee_Supplier ON [dbo].[Supplier]\",\n",
    "# \"DROP INDEX iProfitByMaterial_Supplier ON [dbo].[PaymentCategory]\",\n",
    "# \"DROP INDEX iName_Supplier ON [dbo].[PaymentCategory]\",\n",
    "# \"DROP INDEX iCostByMaterial_Supplier ON [dbo].[PaymentCategory]\",\n",
    "# \"DROP INDEX iNotInPaymentParticipantProfit_Supplier ON [dbo].[PaymentCategory]\"]"
   ]
  },
  {
   "cell_type": "code",
   "execution_count": 15,
   "metadata": {},
   "outputs": [],
   "source": [
    "# for query in drop_index_queries:\n",
    "#     adapter.execute(query)\n",
    "#     adapter.commit()"
   ]
  },
  {
   "cell_type": "code",
   "execution_count": 16,
   "metadata": {},
   "outputs": [],
   "source": [
    "for query in create_index_queries:\n",
    "    adapter.execute(query)\n",
    "    adapter.commit()"
   ]
  },
  {
   "cell_type": "code",
   "execution_count": 17,
   "metadata": {},
   "outputs": [
    {
     "name": "stdout",
     "output_type": "stream",
     "text": [
      "Number of inserted payments: 100, total time: 0.6447747469937894 seconds\n",
      "Number of inserted payments: 1000, total time: 9.79454587699729 seconds\n",
      "Number of inserted payments: 10000, total time: 664.2468722580088 seconds\n"
     ]
    }
   ],
   "source": [
    "payments = [100, 1000, 10000]\n",
    "for n in payments:\n",
    "    adapter.clean_tables(tables=['Payment'])\n",
    "    start_time = perf_counter()\n",
    "    adapter.generate_payments(n)\n",
    "    total_time = perf_counter() - start_time\n",
    "    print(f'Number of inserted payments: {n}, total time: {total_time} seconds')"
   ]
  },
  {
   "cell_type": "code",
   "execution_count": null,
   "metadata": {},
   "outputs": [],
   "source": []
  }
 ],
 "metadata": {
  "kernelspec": {
   "display_name": "dbopt",
   "language": "python",
   "name": "dbopt"
  },
  "language_info": {
   "codemirror_mode": {
    "name": "ipython",
    "version": 3
   },
   "file_extension": ".py",
   "mimetype": "text/x-python",
   "name": "python",
   "nbconvert_exporter": "python",
   "pygments_lexer": "ipython3",
   "version": "3.6.9"
  }
 },
 "nbformat": 4,
 "nbformat_minor": 4
}
